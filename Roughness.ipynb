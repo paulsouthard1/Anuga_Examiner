{
 "cells": [
  {
   "cell_type": "code",
   "execution_count": 1,
   "metadata": {},
   "outputs": [],
   "source": [
    "import numpy as np\n",
    "import numpy.ma as ma\n",
    "import matplotlib.pyplot as plt\n"
   ]
  },
  {
   "cell_type": "code",
   "execution_count": 2,
   "metadata": {},
   "outputs": [],
   "source": [
    "# Define constants\n",
    "Cu = 4.5\n",
    "a = 1\n",
    "g = 9.8 # m/s^2\n",
    "\n"
   ]
  },
  {
   "cell_type": "code",
   "execution_count": 84,
   "metadata": {},
   "outputs": [],
   "source": [
    "zfile = '11_zref_usw.txt'\n",
    "outfile = 'roughness_test.txt'\n",
    "# Load array of Zref\n",
    "zref = np.genfromtxt('11_zref_usw.txt',delimiter = ' ',skip_header = 6)\n",
    "# Remove all negative values and NoData\n",
    "zref[zref < 0] = 0"
   ]
  },
  {
   "cell_type": "code",
   "execution_count": 4,
   "metadata": {},
   "outputs": [],
   "source": [
    "# Load array of depth\n",
    "#depth = np.genfromtxt('depth.txt',delimiter = ' ',skip_header = 6)\n",
    "depth = np.zeros(zref.shape)\n",
    "depth[depth == 0] = 1"
   ]
  },
  {
   "cell_type": "code",
   "execution_count": 5,
   "metadata": {},
   "outputs": [],
   "source": [
    "# Calculate array of Epsilon values\n",
    "def Epsilon(zref,depth):\n",
    "    newzref = ma.masked_where(zref == 0,zref)\n",
    "    epsilon = depth/zref\n",
    "    epsilon = ma.masked_where(epsilon <= 0.2,epsilon)\n",
    "    epsilon = ma.masked_where(epsilon >= 7,epsilon)\n",
    "    return epsilon\n",
    "# Calculate array of function of alpha and epsilon\n",
    "def Func(alpha,epsilon):\n",
    "    function = ma.masked_where(epsilon == 0, epsilon)\n",
    "    function = 1+(alpha*(1/function)*np.log((np.cosh((1/alpha)-((1/alpha)*function)))/(np.cosh(1/alpha))))\n",
    "    return function\n",
    "# Calculate array of roughness values\n",
    "def NCalc(Cu,g,depth,function):\n",
    "    n = (depth**(1/6)/((g**(1/2))*Cu*function))\n",
    "    return n"
   ]
  },
  {
   "cell_type": "code",
   "execution_count": 6,
   "metadata": {},
   "outputs": [
    {
     "name": "stderr",
     "output_type": "stream",
     "text": [
      "/home/paul/anaconda2/lib/python2.7/site-packages/ipykernel_launcher.py:4: RuntimeWarning: divide by zero encountered in divide\n",
      "  after removing the cwd from sys.path.\n"
     ]
    }
   ],
   "source": [
    "# Produced masked array of roughness\n",
    "eps = Epsilon(zref,depth)\n",
    "func = Func(a,eps)\n",
    "n = NCalc(Cu,g,depth,func)\n",
    "# Fille masked values with default of 0.04\n",
    "n = ma.filled(n,fill_value=0.04)"
   ]
  },
  {
   "cell_type": "code",
   "execution_count": 93,
   "metadata": {},
   "outputs": [],
   "source": [
    "def ReadWriteRaster(inraster,outraster,array):\n",
    "    from numpy import savetxt\n",
    "    with open(inraster,\"r\") as file:\n",
    "        header = {}\n",
    "        for i in range(6):\n",
    "            header[i]=file.readline()\n",
    "    file.close()\n",
    "    with open(outfile,'w') as file:\n",
    "        for i in range(6):\n",
    "            file.write(header[i])\n",
    "    file.close()\n",
    "    savetxt('vals.txt',n)\n",
    "    datafile = open('vals.txt','r')\n",
    "    data = datafile.read()\n",
    "    datafile.close()\n",
    "    with open(outfile,'a') as file:\n",
    "        file.write(data)\n",
    "    file.close()\n",
    "        \n"
   ]
  },
  {
   "cell_type": "code",
   "execution_count": 94,
   "metadata": {},
   "outputs": [],
   "source": [
    "ReadWriteRaster(zfile,outfile,n)\n"
   ]
  },
  {
   "cell_type": "code",
   "execution_count": 89,
   "metadata": {},
   "outputs": [],
   "source": [
    "np.savetxt('vals.txt',n)"
   ]
  },
  {
   "cell_type": "code",
   "execution_count": 21,
   "metadata": {},
   "outputs": [],
   "source": [
    "#Make histogram of manning values\n",
    "hist, bin_edges = np.histogram(n,bins=20)"
   ]
  },
  {
   "cell_type": "code",
   "execution_count": 22,
   "metadata": {},
   "outputs": [
    {
     "data": {
      "text/plain": [
       "array([301062,   7336,   4128,   2718,   2054,   1683,   1243,   1170,\n",
       "          948,    855,    780,    760,    808,    895,   1021,   1104,\n",
       "         1347,   1684,   2207,   2872], dtype=int64)"
      ]
     },
     "execution_count": 22,
     "metadata": {},
     "output_type": "execute_result"
    }
   ],
   "source": [
    "hist"
   ]
  },
  {
   "cell_type": "code",
   "execution_count": 23,
   "metadata": {},
   "outputs": [
    {
     "data": {
      "text/plain": [
       "array([ 0.04      ,  0.05045888,  0.06091775,  0.07137663,  0.08183551,\n",
       "        0.09229438,  0.10275326,  0.11321214,  0.12367101,  0.13412989,\n",
       "        0.14458876,  0.15504764,  0.16550652,  0.17596539,  0.18642427,\n",
       "        0.19688315,  0.20734202,  0.2178009 ,  0.22825978,  0.23871865,\n",
       "        0.24917753])"
      ]
     },
     "execution_count": 23,
     "metadata": {},
     "output_type": "execute_result"
    }
   ],
   "source": [
    "bin_edges"
   ]
  },
  {
   "cell_type": "code",
   "execution_count": 26,
   "metadata": {},
   "outputs": [
    {
     "data": {
      "image/png": "[encoded data removed]",
      "text/plain": [
       "<matplotlib.figure.Figure at 0x9586c18>"
      ]
     },
     "metadata": {},
     "output_type": "display_data"
    }
   ],
   "source": [
    "plt.plot(bin_edges[1:-1],hist[1:])\n",
    "plt.show()"
   ]
  },
  {
   "cell_type": "code",
   "execution_count": null,
   "metadata": {
    "collapsed": true
   },
   "outputs": [],
   "source": []
  }
 ],
 "metadata": {
  "kernelspec": {
   "display_name": "Python 2",
   "language": "python",
   "name": "python2"
  },
  "language_info": {
   "codemirror_mode": {
    "name": "ipython",
    "version": 2
   },
   "file_extension": ".py",
   "mimetype": "text/x-python",
   "name": "python",
   "nbconvert_exporter": "python",
   "pygments_lexer": "ipython2",
   "version": "2.7.15"
  }
 },
 "nbformat": 4,
 "nbformat_minor": 2
}
