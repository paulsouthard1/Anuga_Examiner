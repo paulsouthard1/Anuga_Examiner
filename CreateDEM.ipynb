{
 "cells": [
  {
   "cell_type": "code",
   "execution_count": 20,
   "metadata": {},
   "outputs": [],
   "source": [
    "import numpy as np\n",
    "from numpy import random as rd\n",
    "import matplotlib.pyplot as plt\n"
   ]
  },
  {
   "cell_type": "code",
   "execution_count": 21,
   "metadata": {},
   "outputs": [],
   "source": [
    "#Make DEM\n",
    "topbnk = 100\n",
    "botbnk = 99\n",
    "topchan = 95\n",
    "topo = np.zeros((500,51))\n",
    "veg_d = np.zeros((500,51))\n",
    "veg_s = np.zeros((500,51))\n",
    "for i in range(len(topo[:,0])):\n",
    "    rbank = np.linspace(topbnk,botbnk,15)\n",
    "    lbank = np.linspace(botbnk,topbnk,15)\n",
    "    rwall = np.linspace(botbnk,topchan,3)\n",
    "    lwall = np.linspace(topchan,botbnk,3)\n",
    "    bed = (rd.random_sample(15)/5)+topchan\n",
    "    channel = np.concatenate((rbank,rwall,bed,lwall,lbank),axis=0)\n",
    "    topo[i,:] = channel\n",
    "    topbnk = topbnk - 0.01\n",
    "    botbnk = botbnk - 0.01\n",
    "    topchan = topchan - 0.01"
   ]
  },
  {
   "cell_type": "code",
   "execution_count": 22,
   "metadata": {},
   "outputs": [
    {
     "data": {
      "text/plain": [
       "<matplotlib.image.AxesImage at 0x7f1ed89506d0>"
      ]
     },
     "execution_count": 22,
     "metadata": {},
     "output_type": "execute_result"
    },
    {
     "data": {
      "image/png": "[encoded data removed]",
      "text/plain": [
       "<Figure size 432x288 with 1 Axes>"
      ]
     },
     "metadata": {},
     "output_type": "display_data"
    }
   ],
   "source": [
    "plt.imshow(topo)"
   ]
  },
  {
   "cell_type": "code",
   "execution_count": 23,
   "metadata": {},
   "outputs": [],
   "source": [
    "veg_d[200:300,:] = 0.01\n",
    "veg_s[200:300,:] = 0.1"
   ]
  },
  {
   "cell_type": "code",
   "execution_count": 24,
   "metadata": {},
   "outputs": [],
   "source": [
    "np.savetxt(\"Topo_raw.asc\",topo)\n",
    "np.savetxt(\"Veg_D_raw.asc\",veg_d)\n",
    "np.savetxt(\"Veg_S_raw.asc\",veg_s)"
   ]
  },
  {
   "cell_type": "code",
   "execution_count": null,
   "metadata": {},
   "outputs": [],
   "source": []
  }
 ],
 "metadata": {
  "kernelspec": {
   "display_name": "Python 2",
   "language": "python",
   "name": "python2"
  },
  "language_info": {
   "codemirror_mode": {
    "name": "ipython",
    "version": 2
   },
   "file_extension": ".py",
   "mimetype": "text/x-python",
   "name": "python",
   "nbconvert_exporter": "python",
   "pygments_lexer": "ipython2",
   "version": "2.7.15"
  }
 },
 "nbformat": 4,
 "nbformat_minor": 2
}
