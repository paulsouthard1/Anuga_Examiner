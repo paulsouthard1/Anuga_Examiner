{
 "cells": [
  {
   "cell_type": "code",
   "execution_count": 1,
   "metadata": {},
   "outputs": [],
   "source": [
    "import numpy as np\n",
    "from numpy import random as rd\n",
    "import matplotlib.pyplot as plt\n"
   ]
  },
  {
   "cell_type": "code",
   "execution_count": 7,
   "metadata": {},
   "outputs": [],
   "source": [
    "#Make DEM\n",
    "topbnk = 100\n",
    "botbnk = 99\n",
    "topchan = 95\n",
    "topo = np.zeros((300,51))\n",
    "veg_d = np.zeros((300,51))\n",
    "veg_s = np.zeros((300,51))\n",
    "for i in range(len(topo[:,0])):\n",
    "    rbank = np.linspace(topbnk,botbnk,15)\n",
    "    lbank = np.linspace(botbnk,topbnk,15)\n",
    "    rwall = np.linspace(botbnk,topchan,3)\n",
    "    lwall = np.linspace(topchan,botbnk,3)\n",
    "    bed = (rd.random_sample(15)/5)+topchan\n",
    "    channel = np.concatenate((rbank,rwall,bed,lwall,lbank),axis=0)\n",
    "    topo[i,:] = channel\n",
    "    topbnk = topbnk - 0.01\n",
    "    botbnk = botbnk - 0.01\n",
    "    topchan = topchan - 0.01"
   ]
  },
  {
   "cell_type": "code",
   "execution_count": 13,
   "metadata": {},
   "outputs": [
    {
     "data": {
      "text/plain": [
       "<matplotlib.image.AxesImage at 0x8cce9e8>"
      ]
     },
     "execution_count": 13,
     "metadata": {},
     "output_type": "execute_result"
    },
    {
     "data": {
      "image/png": "[encoded data removed]",
      "text/plain": [
       "<Figure size 432x288 with 1 Axes>"
      ]
     },
     "metadata": {},
     "output_type": "display_data"
    }
   ],
   "source": [
    "plt.imshow(veg_s)"
   ]
  },
  {
   "cell_type": "code",
   "execution_count": 10,
   "metadata": {},
   "outputs": [],
   "source": [
    "veg_d[150:200,:] = 0.05\n",
    "veg_s[150:200,:] = 0.5"
   ]
  },
  {
   "cell_type": "code",
   "execution_count": 11,
   "metadata": {},
   "outputs": [],
   "source": [
    "np.savetxt(\"DEM.asc\",topo)\n",
    "np.savetxt(\"Veg_D.asc\",veg_d)\n",
    "np.savetxt(\"Veg_S.asc\",veg_s)"
   ]
  },
  {
   "cell_type": "code",
   "execution_count": 15,
   "metadata": {},
   "outputs": [
    {
     "name": "stdout",
     "output_type": "stream",
     "text": [
      "Object `Bed_shear_erosion_operator` not found.\n"
     ]
    }
   ],
   "source": [
    "from anuga import Bed_shear_erosion_operator?"
   ]
  },
  {
   "cell_type": "code",
   "execution_count": 16,
   "metadata": {},
   "outputs": [],
   "source": [
    "from anuga import Bed_shear_erosion_operator"
   ]
  },
  {
   "cell_type": "code",
   "execution_count": 18,
   "metadata": {},
   "outputs": [],
   "source": [
    "Bed_shear_erosion_operator?"
   ]
  },
  {
   "cell_type": "code",
   "execution_count": 19,
   "metadata": {},
   "outputs": [],
   "source": [
    "anuga.estimate_time_mem?"
   ]
  },
  {
   "cell_type": "code",
   "execution_count": null,
   "metadata": {},
   "outputs": [],
   "source": []
  }
 ],
 "metadata": {
  "kernelspec": {
   "display_name": "Python 2",
   "language": "python",
   "name": "python2"
  },
  "language_info": {
   "codemirror_mode": {
    "name": "ipython",
    "version": 2
   },
   "file_extension": ".py",
   "mimetype": "text/x-python",
   "name": "python",
   "nbconvert_exporter": "python",
   "pygments_lexer": "ipython2",
   "version": "2.7.15"
  }
 },
 "nbformat": 4,
 "nbformat_minor": 2
}
